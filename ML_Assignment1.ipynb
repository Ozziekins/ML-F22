{
  "nbformat": 4,
  "nbformat_minor": 0,
  "metadata": {
    "colab": {
      "provenance": [],
      "collapsed_sections": []
    },
    "kernelspec": {
      "name": "python3",
      "display_name": "Python 3"
    },
    "language_info": {
      "name": "python"
    }
  },
  "cells": [
    {
      "cell_type": "markdown",
      "source": [
        "# [F22] Machine Learning Assignment 1  \n",
        "---\n",
        "\n",
        "**Student name:** Ozioma Okonicha  \n",
        "**Submission:** [GitHub repository link](https://github.com/Ozziekins/ML-F22)"
      ],
      "metadata": {
        "id": "qs0Brhe9ph38"
      }
    },
    {
      "cell_type": "markdown",
      "source": [
        "## **Cloud Gaming**  \n",
        "\n",
        "Cloud gaming is a new way of online gaming, which renders the game data on the high-speed cloud server instead of the end user’s system and is forwarded via a high-speed network. However, users do not always have ideal or stable internet for high streaming quality which leads to loss of data packets during data transfer. In this assignment you will use machine learning to detect unstable network which can be used to take steps towards adapting the data streaming and minimizing data packet loss.  \n",
        "\n",
        "\n",
        "\n",
        "### **Dataset**  \n",
        "\n",
        "The Datasets comes from Innopolis University partner company providing a cloud gaming service. Each entry of the dataset file is represented by features derived from the five variables. Description of the features can be found in the README file for each dataset. The concrete features in the dataset are derived using statistics such as mean, standard deviation and maximum. The dataset contains numerical and categorical attributes. This format is not very friendly for learning algorithms. Further, we are going to discuss how to preprocess the data before passing it to the ML algorithm."
      ],
      "metadata": {
        "id": "wJoMP7vvqL4g"
      }
    },
    {
      "cell_type": "code",
      "execution_count": 388,
      "metadata": {
        "id": "B-JudnRkcgfS"
      },
      "outputs": [],
      "source": [
        "# all imports \n",
        "import pandas as pd \n",
        "import numpy as np\n",
        "import matplotlib.pyplot as plt\n",
        "%matplotlib inline\n",
        "\n",
        "from sklearn.preprocessing import LabelEncoder\n",
        "from sklearn.preprocessing import StandardScaler\n",
        "from sklearn.feature_selection import SelectKBest\n",
        "from sklearn.feature_selection import f_regression\n",
        "\n",
        "from sklearn.decomposition import PCA\n",
        "from sklearn.pipeline import Pipeline\n",
        "\n",
        "from sklearn.preprocessing import PolynomialFeatures\n",
        "from sklearn.linear_model import LinearRegression\n",
        "from sklearn.linear_model import SGDRegressor\n",
        "\n",
        "from sklearn.linear_model import LogisticRegression\n",
        "from sklearn.naive_bayes import GaussianNB\n",
        "from sklearn.linear_model import SGDClassifier\n",
        "\n",
        "from sklearn.metrics import mean_absolute_error, mean_squared_error, r2_score\n",
        "from sklearn.metrics import precision_score, recall_score, accuracy_score, f1_score\n",
        "from sklearn.model_selection import cross_val_score\n",
        "\n",
        "from sklearn.linear_model import SGDOneClassSVM\n"
      ]
    },
    {
      "cell_type": "code",
      "source": [
        "# get the dataset from the csv files\n",
        "bitrate_train_df = pd.read_csv('bitrate_train.csv')\n",
        "bitrate_test_df = pd.read_csv('bitrate_test.csv')\n",
        "\n",
        "stream_train_df = pd.read_csv('train_data.csv')\n",
        "stream_test_df = pd.read_csv('test_data.csv')"
      ],
      "metadata": {
        "id": "I20LwhjMDFOg"
      },
      "execution_count": 389,
      "outputs": []
    },
    {
      "cell_type": "code",
      "source": [
        "# view what our regression dataset looks like\n",
        "bitrate_train_df.head(5)"
      ],
      "metadata": {
        "colab": {
          "base_uri": "https://localhost:8080/",
          "height": 206
        },
        "id": "OKG8HogFRqlc",
        "outputId": "738de625-9c46-45f7-8868-9787deb7a841"
      },
      "execution_count": 390,
      "outputs": [
        {
          "output_type": "execute_result",
          "data": {
            "text/plain": [
              "   fps_mean   fps_std  rtt_mean    rtt_std  dropped_frames_mean  \\\n",
              "0      24.4  0.516398      91.1   6.723921                  0.0   \n",
              "1      28.6  2.065591      99.7  15.923777                  0.0   \n",
              "2      30.0  0.000000      98.1  11.798776                  0.0   \n",
              "3      30.3  0.948683      99.4  13.014522                  0.0   \n",
              "4      29.9  0.316228     123.2  62.476307                  0.0   \n",
              "\n",
              "   dropped_frames_std  dropped_frames_max  bitrate_mean  bitrate_std  target  \n",
              "0                 0.0                 0.0         460.5     7.648529   616.0  \n",
              "1                 0.0                 0.0         616.3   155.414893   565.0  \n",
              "2                 0.0                 0.0         565.2     9.077445   573.0  \n",
              "3                 0.0                 0.0         573.8    28.350191   585.0  \n",
              "4                 0.0                 0.0         585.8    59.458295   555.0  "
            ],
            "text/html": [
              "\n",
              "  <div id=\"df-3bb25661-54ef-4e02-9567-0e1523a5d9d1\">\n",
              "    <div class=\"colab-df-container\">\n",
              "      <div>\n",
              "<style scoped>\n",
              "    .dataframe tbody tr th:only-of-type {\n",
              "        vertical-align: middle;\n",
              "    }\n",
              "\n",
              "    .dataframe tbody tr th {\n",
              "        vertical-align: top;\n",
              "    }\n",
              "\n",
              "    .dataframe thead th {\n",
              "        text-align: right;\n",
              "    }\n",
              "</style>\n",
              "<table border=\"1\" class=\"dataframe\">\n",
              "  <thead>\n",
              "    <tr style=\"text-align: right;\">\n",
              "      <th></th>\n",
              "      <th>fps_mean</th>\n",
              "      <th>fps_std</th>\n",
              "      <th>rtt_mean</th>\n",
              "      <th>rtt_std</th>\n",
              "      <th>dropped_frames_mean</th>\n",
              "      <th>dropped_frames_std</th>\n",
              "      <th>dropped_frames_max</th>\n",
              "      <th>bitrate_mean</th>\n",
              "      <th>bitrate_std</th>\n",
              "      <th>target</th>\n",
              "    </tr>\n",
              "  </thead>\n",
              "  <tbody>\n",
              "    <tr>\n",
              "      <th>0</th>\n",
              "      <td>24.4</td>\n",
              "      <td>0.516398</td>\n",
              "      <td>91.1</td>\n",
              "      <td>6.723921</td>\n",
              "      <td>0.0</td>\n",
              "      <td>0.0</td>\n",
              "      <td>0.0</td>\n",
              "      <td>460.5</td>\n",
              "      <td>7.648529</td>\n",
              "      <td>616.0</td>\n",
              "    </tr>\n",
              "    <tr>\n",
              "      <th>1</th>\n",
              "      <td>28.6</td>\n",
              "      <td>2.065591</td>\n",
              "      <td>99.7</td>\n",
              "      <td>15.923777</td>\n",
              "      <td>0.0</td>\n",
              "      <td>0.0</td>\n",
              "      <td>0.0</td>\n",
              "      <td>616.3</td>\n",
              "      <td>155.414893</td>\n",
              "      <td>565.0</td>\n",
              "    </tr>\n",
              "    <tr>\n",
              "      <th>2</th>\n",
              "      <td>30.0</td>\n",
              "      <td>0.000000</td>\n",
              "      <td>98.1</td>\n",
              "      <td>11.798776</td>\n",
              "      <td>0.0</td>\n",
              "      <td>0.0</td>\n",
              "      <td>0.0</td>\n",
              "      <td>565.2</td>\n",
              "      <td>9.077445</td>\n",
              "      <td>573.0</td>\n",
              "    </tr>\n",
              "    <tr>\n",
              "      <th>3</th>\n",
              "      <td>30.3</td>\n",
              "      <td>0.948683</td>\n",
              "      <td>99.4</td>\n",
              "      <td>13.014522</td>\n",
              "      <td>0.0</td>\n",
              "      <td>0.0</td>\n",
              "      <td>0.0</td>\n",
              "      <td>573.8</td>\n",
              "      <td>28.350191</td>\n",
              "      <td>585.0</td>\n",
              "    </tr>\n",
              "    <tr>\n",
              "      <th>4</th>\n",
              "      <td>29.9</td>\n",
              "      <td>0.316228</td>\n",
              "      <td>123.2</td>\n",
              "      <td>62.476307</td>\n",
              "      <td>0.0</td>\n",
              "      <td>0.0</td>\n",
              "      <td>0.0</td>\n",
              "      <td>585.8</td>\n",
              "      <td>59.458295</td>\n",
              "      <td>555.0</td>\n",
              "    </tr>\n",
              "  </tbody>\n",
              "</table>\n",
              "</div>\n",
              "      <button class=\"colab-df-convert\" onclick=\"convertToInteractive('df-3bb25661-54ef-4e02-9567-0e1523a5d9d1')\"\n",
              "              title=\"Convert this dataframe to an interactive table.\"\n",
              "              style=\"display:none;\">\n",
              "        \n",
              "  <svg xmlns=\"http://www.w3.org/2000/svg\" height=\"24px\"viewBox=\"0 0 24 24\"\n",
              "       width=\"24px\">\n",
              "    <path d=\"M0 0h24v24H0V0z\" fill=\"none\"/>\n",
              "    <path d=\"M18.56 5.44l.94 2.06.94-2.06 2.06-.94-2.06-.94-.94-2.06-.94 2.06-2.06.94zm-11 1L8.5 8.5l.94-2.06 2.06-.94-2.06-.94L8.5 2.5l-.94 2.06-2.06.94zm10 10l.94 2.06.94-2.06 2.06-.94-2.06-.94-.94-2.06-.94 2.06-2.06.94z\"/><path d=\"M17.41 7.96l-1.37-1.37c-.4-.4-.92-.59-1.43-.59-.52 0-1.04.2-1.43.59L10.3 9.45l-7.72 7.72c-.78.78-.78 2.05 0 2.83L4 21.41c.39.39.9.59 1.41.59.51 0 1.02-.2 1.41-.59l7.78-7.78 2.81-2.81c.8-.78.8-2.07 0-2.86zM5.41 20L4 18.59l7.72-7.72 1.47 1.35L5.41 20z\"/>\n",
              "  </svg>\n",
              "      </button>\n",
              "      \n",
              "  <style>\n",
              "    .colab-df-container {\n",
              "      display:flex;\n",
              "      flex-wrap:wrap;\n",
              "      gap: 12px;\n",
              "    }\n",
              "\n",
              "    .colab-df-convert {\n",
              "      background-color: #E8F0FE;\n",
              "      border: none;\n",
              "      border-radius: 50%;\n",
              "      cursor: pointer;\n",
              "      display: none;\n",
              "      fill: #1967D2;\n",
              "      height: 32px;\n",
              "      padding: 0 0 0 0;\n",
              "      width: 32px;\n",
              "    }\n",
              "\n",
              "    .colab-df-convert:hover {\n",
              "      background-color: #E2EBFA;\n",
              "      box-shadow: 0px 1px 2px rgba(60, 64, 67, 0.3), 0px 1px 3px 1px rgba(60, 64, 67, 0.15);\n",
              "      fill: #174EA6;\n",
              "    }\n",
              "\n",
              "    [theme=dark] .colab-df-convert {\n",
              "      background-color: #3B4455;\n",
              "      fill: #D2E3FC;\n",
              "    }\n",
              "\n",
              "    [theme=dark] .colab-df-convert:hover {\n",
              "      background-color: #434B5C;\n",
              "      box-shadow: 0px 1px 3px 1px rgba(0, 0, 0, 0.15);\n",
              "      filter: drop-shadow(0px 1px 2px rgba(0, 0, 0, 0.3));\n",
              "      fill: #FFFFFF;\n",
              "    }\n",
              "  </style>\n",
              "\n",
              "      <script>\n",
              "        const buttonEl =\n",
              "          document.querySelector('#df-3bb25661-54ef-4e02-9567-0e1523a5d9d1 button.colab-df-convert');\n",
              "        buttonEl.style.display =\n",
              "          google.colab.kernel.accessAllowed ? 'block' : 'none';\n",
              "\n",
              "        async function convertToInteractive(key) {\n",
              "          const element = document.querySelector('#df-3bb25661-54ef-4e02-9567-0e1523a5d9d1');\n",
              "          const dataTable =\n",
              "            await google.colab.kernel.invokeFunction('convertToInteractive',\n",
              "                                                     [key], {});\n",
              "          if (!dataTable) return;\n",
              "\n",
              "          const docLinkHtml = 'Like what you see? Visit the ' +\n",
              "            '<a target=\"_blank\" href=https://colab.research.google.com/notebooks/data_table.ipynb>data table notebook</a>'\n",
              "            + ' to learn more about interactive tables.';\n",
              "          element.innerHTML = '';\n",
              "          dataTable['output_type'] = 'display_data';\n",
              "          await google.colab.output.renderOutput(dataTable, element);\n",
              "          const docLink = document.createElement('div');\n",
              "          docLink.innerHTML = docLinkHtml;\n",
              "          element.appendChild(docLink);\n",
              "        }\n",
              "      </script>\n",
              "    </div>\n",
              "  </div>\n",
              "  "
            ]
          },
          "metadata": {},
          "execution_count": 390
        }
      ]
    },
    {
      "cell_type": "code",
      "source": [
        "# view what our classification dataset looks like\n",
        "stream_train_df.head(5)"
      ],
      "metadata": {
        "colab": {
          "base_uri": "https://localhost:8080/",
          "height": 270
        },
        "id": "9JQLCYTnXj22",
        "outputId": "e7fb686e-5aaf-41df-dd09-094737cd588c"
      },
      "execution_count": 391,
      "outputs": [
        {
          "output_type": "execute_result",
          "data": {
            "text/plain": [
              "   fps_mean   fps_std  fps_lags  rtt_mean    rtt_std  dropped_frames_mean  \\\n",
              "0      24.4  0.516398         0      91.1   6.723921                  0.0   \n",
              "1      28.6  2.065591         0      99.7  15.923777                  0.0   \n",
              "2      30.0  0.000000         0      98.1  11.798776                  0.0   \n",
              "3      30.3  0.948683         0      99.4  13.014522                  0.0   \n",
              "4      29.9  0.316228         0     123.2  62.476307                  0.0   \n",
              "\n",
              "   dropped_frames_std  dropped_frames_max auto_bitrate_state auto_fec_state  \\\n",
              "0                 0.0                 0.0                off        partial   \n",
              "1                 0.0                 0.0                off        partial   \n",
              "2                 0.0                 0.0                off        partial   \n",
              "3                 0.0                 0.0                off        partial   \n",
              "4                 0.0                 0.0                off        partial   \n",
              "\n",
              "   auto_fec_mean  stream_quality  \n",
              "0           50.0               0  \n",
              "1           50.0               0  \n",
              "2           50.0               0  \n",
              "3           50.0               0  \n",
              "4           50.0               0  "
            ],
            "text/html": [
              "\n",
              "  <div id=\"df-541870ea-2f31-469f-af40-fc30757d0470\">\n",
              "    <div class=\"colab-df-container\">\n",
              "      <div>\n",
              "<style scoped>\n",
              "    .dataframe tbody tr th:only-of-type {\n",
              "        vertical-align: middle;\n",
              "    }\n",
              "\n",
              "    .dataframe tbody tr th {\n",
              "        vertical-align: top;\n",
              "    }\n",
              "\n",
              "    .dataframe thead th {\n",
              "        text-align: right;\n",
              "    }\n",
              "</style>\n",
              "<table border=\"1\" class=\"dataframe\">\n",
              "  <thead>\n",
              "    <tr style=\"text-align: right;\">\n",
              "      <th></th>\n",
              "      <th>fps_mean</th>\n",
              "      <th>fps_std</th>\n",
              "      <th>fps_lags</th>\n",
              "      <th>rtt_mean</th>\n",
              "      <th>rtt_std</th>\n",
              "      <th>dropped_frames_mean</th>\n",
              "      <th>dropped_frames_std</th>\n",
              "      <th>dropped_frames_max</th>\n",
              "      <th>auto_bitrate_state</th>\n",
              "      <th>auto_fec_state</th>\n",
              "      <th>auto_fec_mean</th>\n",
              "      <th>stream_quality</th>\n",
              "    </tr>\n",
              "  </thead>\n",
              "  <tbody>\n",
              "    <tr>\n",
              "      <th>0</th>\n",
              "      <td>24.4</td>\n",
              "      <td>0.516398</td>\n",
              "      <td>0</td>\n",
              "      <td>91.1</td>\n",
              "      <td>6.723921</td>\n",
              "      <td>0.0</td>\n",
              "      <td>0.0</td>\n",
              "      <td>0.0</td>\n",
              "      <td>off</td>\n",
              "      <td>partial</td>\n",
              "      <td>50.0</td>\n",
              "      <td>0</td>\n",
              "    </tr>\n",
              "    <tr>\n",
              "      <th>1</th>\n",
              "      <td>28.6</td>\n",
              "      <td>2.065591</td>\n",
              "      <td>0</td>\n",
              "      <td>99.7</td>\n",
              "      <td>15.923777</td>\n",
              "      <td>0.0</td>\n",
              "      <td>0.0</td>\n",
              "      <td>0.0</td>\n",
              "      <td>off</td>\n",
              "      <td>partial</td>\n",
              "      <td>50.0</td>\n",
              "      <td>0</td>\n",
              "    </tr>\n",
              "    <tr>\n",
              "      <th>2</th>\n",
              "      <td>30.0</td>\n",
              "      <td>0.000000</td>\n",
              "      <td>0</td>\n",
              "      <td>98.1</td>\n",
              "      <td>11.798776</td>\n",
              "      <td>0.0</td>\n",
              "      <td>0.0</td>\n",
              "      <td>0.0</td>\n",
              "      <td>off</td>\n",
              "      <td>partial</td>\n",
              "      <td>50.0</td>\n",
              "      <td>0</td>\n",
              "    </tr>\n",
              "    <tr>\n",
              "      <th>3</th>\n",
              "      <td>30.3</td>\n",
              "      <td>0.948683</td>\n",
              "      <td>0</td>\n",
              "      <td>99.4</td>\n",
              "      <td>13.014522</td>\n",
              "      <td>0.0</td>\n",
              "      <td>0.0</td>\n",
              "      <td>0.0</td>\n",
              "      <td>off</td>\n",
              "      <td>partial</td>\n",
              "      <td>50.0</td>\n",
              "      <td>0</td>\n",
              "    </tr>\n",
              "    <tr>\n",
              "      <th>4</th>\n",
              "      <td>29.9</td>\n",
              "      <td>0.316228</td>\n",
              "      <td>0</td>\n",
              "      <td>123.2</td>\n",
              "      <td>62.476307</td>\n",
              "      <td>0.0</td>\n",
              "      <td>0.0</td>\n",
              "      <td>0.0</td>\n",
              "      <td>off</td>\n",
              "      <td>partial</td>\n",
              "      <td>50.0</td>\n",
              "      <td>0</td>\n",
              "    </tr>\n",
              "  </tbody>\n",
              "</table>\n",
              "</div>\n",
              "      <button class=\"colab-df-convert\" onclick=\"convertToInteractive('df-541870ea-2f31-469f-af40-fc30757d0470')\"\n",
              "              title=\"Convert this dataframe to an interactive table.\"\n",
              "              style=\"display:none;\">\n",
              "        \n",
              "  <svg xmlns=\"http://www.w3.org/2000/svg\" height=\"24px\"viewBox=\"0 0 24 24\"\n",
              "       width=\"24px\">\n",
              "    <path d=\"M0 0h24v24H0V0z\" fill=\"none\"/>\n",
              "    <path d=\"M18.56 5.44l.94 2.06.94-2.06 2.06-.94-2.06-.94-.94-2.06-.94 2.06-2.06.94zm-11 1L8.5 8.5l.94-2.06 2.06-.94-2.06-.94L8.5 2.5l-.94 2.06-2.06.94zm10 10l.94 2.06.94-2.06 2.06-.94-2.06-.94-.94-2.06-.94 2.06-2.06.94z\"/><path d=\"M17.41 7.96l-1.37-1.37c-.4-.4-.92-.59-1.43-.59-.52 0-1.04.2-1.43.59L10.3 9.45l-7.72 7.72c-.78.78-.78 2.05 0 2.83L4 21.41c.39.39.9.59 1.41.59.51 0 1.02-.2 1.41-.59l7.78-7.78 2.81-2.81c.8-.78.8-2.07 0-2.86zM5.41 20L4 18.59l7.72-7.72 1.47 1.35L5.41 20z\"/>\n",
              "  </svg>\n",
              "      </button>\n",
              "      \n",
              "  <style>\n",
              "    .colab-df-container {\n",
              "      display:flex;\n",
              "      flex-wrap:wrap;\n",
              "      gap: 12px;\n",
              "    }\n",
              "\n",
              "    .colab-df-convert {\n",
              "      background-color: #E8F0FE;\n",
              "      border: none;\n",
              "      border-radius: 50%;\n",
              "      cursor: pointer;\n",
              "      display: none;\n",
              "      fill: #1967D2;\n",
              "      height: 32px;\n",
              "      padding: 0 0 0 0;\n",
              "      width: 32px;\n",
              "    }\n",
              "\n",
              "    .colab-df-convert:hover {\n",
              "      background-color: #E2EBFA;\n",
              "      box-shadow: 0px 1px 2px rgba(60, 64, 67, 0.3), 0px 1px 3px 1px rgba(60, 64, 67, 0.15);\n",
              "      fill: #174EA6;\n",
              "    }\n",
              "\n",
              "    [theme=dark] .colab-df-convert {\n",
              "      background-color: #3B4455;\n",
              "      fill: #D2E3FC;\n",
              "    }\n",
              "\n",
              "    [theme=dark] .colab-df-convert:hover {\n",
              "      background-color: #434B5C;\n",
              "      box-shadow: 0px 1px 3px 1px rgba(0, 0, 0, 0.15);\n",
              "      filter: drop-shadow(0px 1px 2px rgba(0, 0, 0, 0.3));\n",
              "      fill: #FFFFFF;\n",
              "    }\n",
              "  </style>\n",
              "\n",
              "      <script>\n",
              "        const buttonEl =\n",
              "          document.querySelector('#df-541870ea-2f31-469f-af40-fc30757d0470 button.colab-df-convert');\n",
              "        buttonEl.style.display =\n",
              "          google.colab.kernel.accessAllowed ? 'block' : 'none';\n",
              "\n",
              "        async function convertToInteractive(key) {\n",
              "          const element = document.querySelector('#df-541870ea-2f31-469f-af40-fc30757d0470');\n",
              "          const dataTable =\n",
              "            await google.colab.kernel.invokeFunction('convertToInteractive',\n",
              "                                                     [key], {});\n",
              "          if (!dataTable) return;\n",
              "\n",
              "          const docLinkHtml = 'Like what you see? Visit the ' +\n",
              "            '<a target=\"_blank\" href=https://colab.research.google.com/notebooks/data_table.ipynb>data table notebook</a>'\n",
              "            + ' to learn more about interactive tables.';\n",
              "          element.innerHTML = '';\n",
              "          dataTable['output_type'] = 'display_data';\n",
              "          await google.colab.output.renderOutput(dataTable, element);\n",
              "          const docLink = document.createElement('div');\n",
              "          docLink.innerHTML = docLinkHtml;\n",
              "          element.appendChild(docLink);\n",
              "        }\n",
              "      </script>\n",
              "    </div>\n",
              "  </div>\n",
              "  "
            ]
          },
          "metadata": {},
          "execution_count": 391
        }
      ]
    },
    {
      "cell_type": "markdown",
      "source": [
        "# **Regression task**\n",
        "## **Prediction of bitrate**  \n",
        "---  \n",
        "\n"
      ],
      "metadata": {
        "id": "3Sc79dGVsd1u"
      }
    },
    {
      "cell_type": "code",
      "source": [
        "# appropriately split the train dataset columns into x and y\n",
        "bitrate_y_train = bitrate_train_df['target']\n",
        "bitrate_x_train = bitrate_train_df.drop('target', axis=1)\n",
        "\n",
        "print(\"bitrate X train shape : \", bitrate_x_train.shape)\n",
        "print(\"bitrate Y train shape : \", bitrate_y_train.shape)\n",
        "\n",
        "# appropriately split the test dataset columns into x and y\n",
        "bitrate_y_test = bitrate_test_df['target']\n",
        "bitrate_x_test = bitrate_test_df.drop('target', axis=1)\n",
        "\n",
        "print(\"bitrate X test shape : \", bitrate_x_test.shape)\n",
        "print(\"bitrate Y test shape : \", bitrate_y_test.shape)\n"
      ],
      "metadata": {
        "colab": {
          "base_uri": "https://localhost:8080/"
        },
        "id": "JfXOC45G0bjk",
        "outputId": "dd78d6dd-8fcf-485b-86f6-22e29f203fc0"
      },
      "execution_count": 392,
      "outputs": [
        {
          "output_type": "stream",
          "name": "stdout",
          "text": [
            "bitrate X train shape :  (379021, 9)\n",
            "bitrate Y train shape :  (379021,)\n",
            "bitrate X test shape :  (228145, 9)\n",
            "bitrate Y test shape :  (228145,)\n"
          ]
        }
      ]
    },
    {
      "cell_type": "code",
      "source": [
        "plt.scatter(bitrate_x_train.iloc[:, 0], bitrate_y_train)\n",
        "plt.title(\"Bitrate dataset\")\n",
        "plt.xlabel(\"fps mean\")\n",
        "plt.ylabel(\"target\")\n",
        "plt.show()"
      ],
      "metadata": {
        "colab": {
          "base_uri": "https://localhost:8080/",
          "height": 295
        },
        "id": "i1pzOsXfMZMx",
        "outputId": "61cc4955-ed73-4663-f049-7ceebe193e9d"
      },
      "execution_count": 393,
      "outputs": [
        {
          "output_type": "display_data",
          "data": {
            "text/plain": [
              "<Figure size 432x288 with 1 Axes>"
            ],
            "image/png": "[encoded data removed]"
          },
          "metadata": {
            "needs_background": "light"
          }
        }
      ]
    },
    {
      "cell_type": "markdown",
      "source": [
        "### **Data Preprocessing**  \n",
        "\n",
        "Data preprocessing is a crucial step in data analysis. The simplest way to convert the string representation into the machine-readable format is to substitute the characters with a unique integer identifier. This can be easily achieved by using Label encoder from sklearn. You are free to apply other ways for handling categorical data. You can explore more encoders from library called [Category Encoders](https://contrib.scikit-learn.org/category_encoders/index.html). Some models such as neural networks work best with scaled data, therefore to scale the data as part of the preprocessing stage sklearn provides different methods for scaling the data (i.e Standard scaler, [Min-Max scaler](https://scikit-learn.org/stable/modules/generated/sklearn.preprocessing.MinMaxScaler.html))"
      ],
      "metadata": {
        "id": "kDGa5N9OtayY"
      }
    },
    {
      "cell_type": "code",
      "source": [
        "# count the number of NaN values in each column to see if there are any\n",
        "print(\"NaN values count :- \", np.isnan(bitrate_x_train).sum())"
      ],
      "metadata": {
        "colab": {
          "base_uri": "https://localhost:8080/"
        },
        "id": "uLIKsz3Ss5QL",
        "outputId": "a3638072-d672-4672-f609-3b8783be5adb"
      },
      "execution_count": 394,
      "outputs": [
        {
          "output_type": "stream",
          "name": "stdout",
          "text": [
            "NaN values count :-  fps_mean               0\n",
            "fps_std                0\n",
            "rtt_mean               0\n",
            "rtt_std                0\n",
            "dropped_frames_mean    0\n",
            "dropped_frames_std     0\n",
            "dropped_frames_max     0\n",
            "bitrate_mean           0\n",
            "bitrate_std            0\n",
            "dtype: int64\n"
          ]
        }
      ]
    },
    {
      "cell_type": "code",
      "source": [
        "# standardize the data features using standard scaler\n",
        "scaler = StandardScaler()\n",
        "scaler.fit(bitrate_x_train)\n",
        "scaled_data = scaler.transform(bitrate_x_train)\n",
        "scaled_test_data = scaler.transform(bitrate_x_test)"
      ],
      "metadata": {
        "id": "ad2I7gDEs_wB"
      },
      "execution_count": 395,
      "outputs": []
    },
    {
      "cell_type": "markdown",
      "source": [
        "### **Feature Selection**  \n",
        "\n",
        "It is desirable to reduce the number of input variables to both reduce the computational cost of modeling and, in some cases, to improve the performance of the model. Methods such as Lasso have feature selection embedded to their algorithm. However there exist other methods which result in improved model prediction performance (i.e statistical based). For feature selection in this assignment you will have to use one of the methods introduced in the labs or Lecture."
      ],
      "metadata": {
        "id": "cBop6ZhftjYB"
      }
    },
    {
      "cell_type": "code",
      "source": [
        "# configure to select all features\n",
        "fs = SelectKBest(score_func=f_regression, k='all')\n",
        "fs.fit(scaled_data, bitrate_y_train)\n",
        "\n",
        "# transform train input data\n",
        "X_train_fs = fs.transform(scaled_data)\n",
        "\n",
        "# what are scores for the features\n",
        "for i in range(len(fs.scores_)):\n",
        "\tprint('Feature %d: %f' % (i, fs.scores_[i]))\n",
        " \n",
        "# plot the scores\n",
        "plt.bar([\"fps_mean\", \"fps_std\", \"rtt_mean\", \"rtt_std\", \"dropped_frames_mean\", \n",
        "            \"dropped_frames_std\", \"dropped_frames_max\", \"bitrate_mean\", \"bitrate_std\"], fs.scores_)\n",
        "plt.title(\"K Best features\")\n",
        "plt.xlabel(\"features\")\n",
        "plt.ylabel(\"score\")\n",
        "plt.xticks(rotation = 90)\n",
        "plt.tight_layout()\n",
        "plt.show()"
      ],
      "metadata": {
        "colab": {
          "base_uri": "https://localhost:8080/",
          "height": 453
        },
        "id": "J3nXgf9-tH81",
        "outputId": "ce4d2b20-5d02-4441-c293-12fb3ef45099"
      },
      "execution_count": 396,
      "outputs": [
        {
          "output_type": "stream",
          "name": "stdout",
          "text": [
            "Feature 0: 15920.373908\n",
            "Feature 1: 1707.457849\n",
            "Feature 2: 3833.285589\n",
            "Feature 3: 361.600044\n",
            "Feature 4: 403.238181\n",
            "Feature 5: 746.650342\n",
            "Feature 6: 775.739530\n",
            "Feature 7: 3168868.682680\n",
            "Feature 8: 140064.663634\n"
          ]
        },
        {
          "output_type": "display_data",
          "data": {
            "text/plain": [
              "<Figure size 432x288 with 1 Axes>"
            ],
            "image/png": "[encoded data removed]"
          },
          "metadata": {
            "needs_background": "light"
          }
        }
      ]
    },
    {
      "cell_type": "markdown",
      "source": [
        "### **Data Visualization**  \n",
        "\n",
        "For data visualization on 2D plane dimension reduction methods such as Principal component analysis (PCA) can be used. The simplest way is to select one meaningful feature and plot it against the target variable. We suggest plotting the independent variables against the dependent variables. To better understand the data and create the data profile you can use pandas-profiling, which will generate report one line of code."
      ],
      "metadata": {
        "id": "l0Q6fD4Ttvek"
      }
    },
    {
      "cell_type": "code",
      "source": [
        "# UNCOMMENT THE NEXT LINE AND RUN THIS CELL TO BE ABLE TO USE pandas-profiling\n",
        "# ! pip install https://github.com/pandas-profiling/pandas-profiling/archive/master.zip"
      ],
      "metadata": {
        "id": "NKp5Fo2yvgPz"
      },
      "execution_count": 397,
      "outputs": []
    },
    {
      "cell_type": "code",
      "source": [
        "# from pandas_profiling import ProfileReport\n",
        "\n",
        "# profile = ProfileReport(bitrate_train_df, title='Bitrate', html={'style':{'full_width':True}})"
      ],
      "metadata": {
        "id": "n8pSHj-QtwAc"
      },
      "execution_count": 398,
      "outputs": []
    },
    {
      "cell_type": "code",
      "source": [
        "# profile.to_notebook_iframe()"
      ],
      "metadata": {
        "id": "XUzve9sMuBJB"
      },
      "execution_count": 399,
      "outputs": []
    },
    {
      "cell_type": "code",
      "source": [
        "# profile.to_file(output_file=\"bitrate_profile.html\")"
      ],
      "metadata": {
        "id": "FlUVpy1huE61"
      },
      "execution_count": 400,
      "outputs": []
    },
    {
      "cell_type": "code",
      "source": [
        "# reduce the dimentionality to visualize on a 2D plane\n",
        "pca = PCA(n_components=1)\n",
        "bitrate_x_train_reduced = pca.fit_transform(X_train_fs)\n",
        "bitrate_x_test_reduced = pca.transform(bitrate_x_test)"
      ],
      "metadata": {
        "id": "2gQOa6lDw5c8",
        "colab": {
          "base_uri": "https://localhost:8080/"
        },
        "outputId": "0bea1e89-8886-49c1-8e30-a131a2ef0f29"
      },
      "execution_count": 401,
      "outputs": [
        {
          "output_type": "stream",
          "name": "stderr",
          "text": [
            "/usr/local/lib/python3.7/dist-packages/sklearn/base.py:444: UserWarning: X has feature names, but PCA was fitted without feature names\n",
            "  f\"X has feature names, but {self.__class__.__name__} was fitted without\"\n"
          ]
        }
      ]
    },
    {
      "cell_type": "code",
      "source": [
        "# plot the basis\n",
        "plt.scatter(bitrate_x_train_reduced, bitrate_y_train, marker='.')\n",
        "plt.title(\"PCA with n_components=1\")\n",
        "plt.xlabel(\"reduced bitrate x train\")\n",
        "plt.ylabel(\"bitrate y train\")\n",
        "plt.tight_layout()\n",
        "plt.show()"
      ],
      "metadata": {
        "colab": {
          "base_uri": "https://localhost:8080/",
          "height": 297
        },
        "id": "KUYKiIpH7siD",
        "outputId": "0c1ac35d-fd95-4c6e-9812-60450538bc2d"
      },
      "execution_count": 402,
      "outputs": [
        {
          "output_type": "display_data",
          "data": {
            "text/plain": [
              "<Figure size 432x288 with 1 Axes>"
            ],
            "image/png": "[encoded data removed]"
          },
          "metadata": {
            "needs_background": "light"
          }
        }
      ]
    },
    {
      "cell_type": "code",
      "source": [
        "print(pca.components_)"
      ],
      "metadata": {
        "colab": {
          "base_uri": "https://localhost:8080/"
        },
        "id": "A_LsMqtY-0G8",
        "outputId": "8eb0c350-5a8a-400e-b41f-3681ef2c58bb"
      },
      "execution_count": 403,
      "outputs": [
        {
          "output_type": "stream",
          "name": "stdout",
          "text": [
            "[[0.13852157 0.36313011 0.10161672 0.12032464 0.45917022 0.53961635\n",
            "  0.54319352 0.08989025 0.13777431]]\n"
          ]
        }
      ]
    },
    {
      "cell_type": "code",
      "source": [
        "print(\"Mean : \", pca.mean_)\n",
        "print(\"Explained variance : \", pca.explained_variance_)\n",
        "print(\"Explained variance ratio: \", pca.explained_variance_ratio_)\n"
      ],
      "metadata": {
        "colab": {
          "base_uri": "https://localhost:8080/"
        },
        "id": "tEHeZo9_8-GZ",
        "outputId": "8dc0d949-5dd3-4948-bbf0-4f4063c484d8"
      },
      "execution_count": 404,
      "outputs": [
        {
          "output_type": "stream",
          "name": "stdout",
          "text": [
            "Mean :  [ 1.50874172e-16  2.39359024e-16  3.05947624e-17  1.30477663e-17\n",
            "  2.86450962e-17 -8.15860331e-17 -3.57688767e-17 -1.04382131e-16\n",
            " -1.60022605e-16]\n",
            "Explained variance :  [2.96456914]\n",
            "Explained variance ratio:  [0.3293957]\n"
          ]
        }
      ]
    },
    {
      "cell_type": "markdown",
      "source": [
        "### **Machine Learning Models**  \n",
        "\n",
        "For the regression task (prediction of bitrate), you will need to select the appropriate machine learning algorithm. From the Course of machine learning, you have studied several machine learning algorithms (i.e linear regression, logistic regression, polynomial regression, etc.). If you decide to use an algorithm taking one variable as input, RTT or FPS related feature should be used as an independent (predictor) variable. A minimum of 3 machine learning algorithms should be used for the prediction of bitrate. One of the algorithms should have regularization."
      ],
      "metadata": {
        "id": "tR9oYnOLuMFO"
      }
    },
    {
      "cell_type": "markdown",
      "source": [
        "### Linear Regression"
      ],
      "metadata": {
        "id": "vqtzn_DybIyk"
      }
    },
    {
      "cell_type": "code",
      "source": [
        "# create a linear regression estimator and fit it to our processed data\n",
        "linear_regression = LinearRegression()\n",
        "linear_regression.fit(X_train_fs, bitrate_y_train)\n",
        "\n",
        "linear_score = cross_val_score(linear_regression, scaled_test_data, bitrate_y_test, cv=5)\n",
        "print(linear_score)"
      ],
      "metadata": {
        "colab": {
          "base_uri": "https://localhost:8080/"
        },
        "id": "Pua-dLybbVHV",
        "outputId": "58293517-3a8d-4326-8ecb-6a223db790e3"
      },
      "execution_count": 405,
      "outputs": [
        {
          "output_type": "stream",
          "name": "stdout",
          "text": [
            "[0.90626203 0.88264286 0.87499521 0.89220649 0.88861733]\n"
          ]
        }
      ]
    },
    {
      "cell_type": "markdown",
      "source": [
        "### Polynomial Regression"
      ],
      "metadata": {
        "id": "nUuLI_Si7eym"
      }
    },
    {
      "cell_type": "code",
      "source": [
        "# create a polynomial regression estimator and fit it to our processed data\n",
        "\n",
        "degree = 2\n",
        "\n",
        "polynomial_features = PolynomialFeatures(degree=degree,\n",
        "                                            include_bias=False, )\n",
        "linear_regression_poly = LinearRegression()\n",
        "\n",
        "# create our estimator pipeline\n",
        "poly_pipeline = Pipeline([(\"polynomial_features\", polynomial_features),\n",
        "                        (\"linear_regression\", linear_regression_poly)])\n",
        "poly_pipeline.fit(X_train_fs, bitrate_y_train)\n",
        "    \n",
        "poly_score = cross_val_score(poly_pipeline, scaled_test_data, bitrate_y_test, cv=5)\n",
        "print(poly_score)"
      ],
      "metadata": {
        "colab": {
          "base_uri": "https://localhost:8080/"
        },
        "id": "Mxmxju_lsz93",
        "outputId": "9e9a3582-bea1-4d04-d2a3-b00c9afa7bec"
      },
      "execution_count": 406,
      "outputs": [
        {
          "output_type": "stream",
          "name": "stdout",
          "text": [
            "[0.90652153 0.88279805 0.87472943 0.89324391 0.88966592]\n"
          ]
        }
      ]
    },
    {
      "cell_type": "markdown",
      "source": [
        "### SGD Regression"
      ],
      "metadata": {
        "id": "9PxMpyjR7jS_"
      }
    },
    {
      "cell_type": "code",
      "source": [
        "# create a stochastic gradient descent estimator and fit it to our processed data\n",
        "sgd_regressor = SGDRegressor(penalty=\"l1\")\n",
        "sgd_regressor.fit(X_train_fs, bitrate_y_train)\n",
        "\n",
        "sgd_score = cross_val_score(sgd_regressor, scaled_test_data, bitrate_y_test, cv=5)\n",
        "print(sgd_score)"
      ],
      "metadata": {
        "id": "j0v0qubn7dvL",
        "colab": {
          "base_uri": "https://localhost:8080/"
        },
        "outputId": "06da9dd2-b214-449d-8416-aa8a0a85e53b"
      },
      "execution_count": 407,
      "outputs": [
        {
          "output_type": "stream",
          "name": "stdout",
          "text": [
            "[0.90584073 0.88218345 0.87428171 0.89070572 0.8885124 ]\n"
          ]
        }
      ]
    },
    {
      "cell_type": "markdown",
      "source": [
        "### Cross Validation"
      ],
      "metadata": {
        "id": "_fuCLoRavmpD"
      }
    },
    {
      "cell_type": "code",
      "source": [
        "plt.plot([i for i in range(1, 6)], linear_score, marker=\".\")\n",
        "plt.plot([i for i in range(1, 6)], poly_score, marker=\".\")\n",
        "plt.plot([i for i in range(1, 6)], sgd_score, marker=\".\")\n",
        "plt.title(\"CV scores for the regression models\")\n",
        "plt.legend([\"linear regressor\", \"polynomial regressor\", \"sgd regressor\"])\n",
        "plt.xlabel(\"cv\")\n",
        "plt.ylabel(\"score\")\n",
        "plt.tight_layout()\n",
        "plt.show()"
      ],
      "metadata": {
        "colab": {
          "base_uri": "https://localhost:8080/",
          "height": 297
        },
        "id": "q4BNn3TpvoF3",
        "outputId": "79bce81c-3756-480d-cf50-e080744c4fda"
      },
      "execution_count": 408,
      "outputs": [
        {
          "output_type": "display_data",
          "data": {
            "text/plain": [
              "<Figure size 432x288 with 1 Axes>"
            ],
            "image/png": "[encoded data removed]"
          },
          "metadata": {
            "needs_background": "light"
          }
        }
      ]
    },
    {
      "cell_type": "markdown",
      "source": [
        "### **Performance Measurement**  \n",
        "\n",
        "To measure the performance of the selected models there, exist a number of metrics studied in the course of machine learning (i.e. MSE, precision, recall, RMSE, F1-score, and weighted F1-score). Compare the trained machine learning models in regression task using the appropriate metrics (use minimum of two metrics)."
      ],
      "metadata": {
        "id": "EjbEowZjuYCj"
      }
    },
    {
      "cell_type": "markdown",
      "source": [
        "### Mean squared error"
      ],
      "metadata": {
        "id": "tLXQZFS1TnnN"
      }
    },
    {
      "cell_type": "code",
      "source": [
        "# create a list for all the MSEs\n",
        "MSEs = []\n",
        "\n",
        "# calculate and print the mean squared error for the 3 models\n",
        "bitrate_y_pred = linear_regression.predict(scaled_test_data)\n",
        "mse = mean_squared_error(bitrate_y_test, bitrate_y_pred)\n",
        "MSEs.append(mse)\n",
        "print(\"MSE for Linear Regression: \", mse)\n",
        "\n",
        "bitrate_y_pred = poly_pipeline.predict(scaled_test_data)\n",
        "mse = mean_squared_error(bitrate_y_test, bitrate_y_pred)\n",
        "MSEs.append(mse)\n",
        "print(\"MSE for Polynomial Regression: \", mse)\n",
        "\n",
        "bitrate_y_pred = sgd_regressor.predict(scaled_test_data)\n",
        "mse = mean_squared_error(bitrate_y_test, bitrate_y_pred)\n",
        "MSEs.append(mse)\n",
        "print(\"MSE for SGD Regressor: \", mse)\n",
        "\n",
        "plt.plot([\"linear\", \"poly\", \"sgd\"], MSEs, marker=\".\")\n",
        "plt.title(\"Mean Squared Errors for the 3 models\")\n",
        "plt.xlabel(\"model\")\n",
        "plt.ylabel(\"mean squared error\")\n",
        "plt.tight_layout()\n",
        "plt.show()"
      ],
      "metadata": {
        "id": "k5vfZVUluYi_",
        "colab": {
          "base_uri": "https://localhost:8080/",
          "height": 349
        },
        "outputId": "d62fbc75-0b73-45b2-8612-1d17782a53ae"
      },
      "execution_count": 409,
      "outputs": [
        {
          "output_type": "stream",
          "name": "stdout",
          "text": [
            "MSE for Linear Regression:  3798252.2087928024\n",
            "MSE for Polynomial Regression:  3775620.26119647\n",
            "MSE for SGD Regressor:  3826342.088961449\n"
          ]
        },
        {
          "output_type": "display_data",
          "data": {
            "text/plain": [
              "<Figure size 432x288 with 1 Axes>"
            ],
            "image/png": "[encoded data removed]"
          },
          "metadata": {
            "needs_background": "light"
          }
        }
      ]
    },
    {
      "cell_type": "markdown",
      "source": [
        "### Mean absolute error"
      ],
      "metadata": {
        "id": "crOAeUJETsXn"
      }
    },
    {
      "cell_type": "code",
      "source": [
        "# create a list for all the MAEs\n",
        "MAEs = []\n",
        "\n",
        "# calculate and print the mean absolute error for the 3 models\n",
        "bitrate_y_pred = linear_regression.predict(scaled_test_data)\n",
        "mae = mean_absolute_error(bitrate_y_test, bitrate_y_pred)\n",
        "MAEs.append(mae)\n",
        "print(\"MAE for Linear Regression: \", mae)\n",
        "\n",
        "bitrate_y_pred = poly_pipeline.predict(scaled_test_data)\n",
        "mae= mean_absolute_error(bitrate_y_test, bitrate_y_pred)\n",
        "MAEs.append(mae)\n",
        "print(\"MAE for Polynomial Regression: \", mae)\n",
        "\n",
        "bitrate_y_pred = sgd_regressor.predict(scaled_test_data)\n",
        "mae = mean_absolute_error(bitrate_y_test, bitrate_y_pred)\n",
        "MAEs.append(mae)\n",
        "print(\"MSE for SGD Regressor: \", mae)\n",
        "\n",
        "plt.plot([\"linear\", \"poly\", \"sgd\"], MAEs, marker=\".\")\n",
        "plt.title(\"Mean Absolute Errors for the 3 models\")\n",
        "plt.xlabel(\"model\")\n",
        "plt.ylabel(\"mean absolute error\")\n",
        "plt.tight_layout()\n",
        "plt.show()"
      ],
      "metadata": {
        "colab": {
          "base_uri": "https://localhost:8080/",
          "height": 349
        },
        "id": "KGMiLVPLTqg5",
        "outputId": "5cc21fa4-34bc-4fc1-9cab-cfd12a6eb706"
      },
      "execution_count": 410,
      "outputs": [
        {
          "output_type": "stream",
          "name": "stdout",
          "text": [
            "MAE for Linear Regression:  1076.8265007157565\n",
            "MAE for Polynomial Regression:  1052.1454616456333\n",
            "MSE for SGD Regressor:  1067.2710548019847\n"
          ]
        },
        {
          "output_type": "display_data",
          "data": {
            "text/plain": [
              "<Figure size 432x288 with 1 Axes>"
            ],
            "image/png": "[encoded data removed]"
          },
          "metadata": {
            "needs_background": "light"
          }
        }
      ]
    },
    {
      "cell_type": "markdown",
      "source": [
        "### R-Squared Score"
      ],
      "metadata": {
        "id": "jDvDb0xjT13s"
      }
    },
    {
      "cell_type": "code",
      "source": [
        "# create a list for all the R2s\n",
        "R2s = []\n",
        "\n",
        "# calculate and print the r squared error for the 3 models\n",
        "bitrate_y_pred = linear_regression.predict(scaled_test_data)\n",
        "r2 = r2_score(bitrate_y_test, bitrate_y_pred)\n",
        "R2s.append(r2)\n",
        "print(\"R2 for Linear Regression: \", r2)\n",
        "\n",
        "bitrate_y_pred = poly_pipeline.predict(scaled_test_data)\n",
        "r2 = r2_score(bitrate_y_test, bitrate_y_pred)\n",
        "R2s.append(r2)\n",
        "print(\"R2 for Polynomial Regression: \", r2)\n",
        "\n",
        "bitrate_y_pred = sgd_regressor.predict(scaled_test_data)\n",
        "r2 = r2_score(bitrate_y_test, bitrate_y_pred)\n",
        "R2s.append(r2)\n",
        "print(\"R2 for SGD Regressor: \", r2)\n",
        "\n",
        "plt.plot([\"linear\", \"poly\", \"sgd\"], R2s, marker=\".\")\n",
        "plt.title(\"R Squared Errors for the 3 models\")\n",
        "plt.xlabel(\"model\")\n",
        "plt.ylabel(\"r2 scores\")\n",
        "plt.tight_layout()\n",
        "plt.show()"
      ],
      "metadata": {
        "colab": {
          "base_uri": "https://localhost:8080/",
          "height": 349
        },
        "id": "AC3b2Zq-T8Nq",
        "outputId": "dd970527-cad3-4290-983a-df9782b79837"
      },
      "execution_count": 411,
      "outputs": [
        {
          "output_type": "stream",
          "name": "stdout",
          "text": [
            "R2 for Linear Regression:  0.8934890529608464\n",
            "R2 for Polynomial Regression:  0.8941237001720678\n",
            "R2 for SGD Regressor:  0.8927013538891383\n"
          ]
        },
        {
          "output_type": "display_data",
          "data": {
            "text/plain": [
              "<Figure size 432x288 with 1 Axes>"
            ],
            "image/png": "[encoded data removed]"
          },
          "metadata": {
            "needs_background": "light"
          }
        }
      ]
    },
    {
      "cell_type": "markdown",
      "source": [
        "# **Classification task**\n",
        "## **Detection of stream quality**  \n",
        "---  \n",
        "\n"
      ],
      "metadata": {
        "id": "OaYftmxMtncv"
      }
    },
    {
      "cell_type": "code",
      "source": [
        "# appropriately split the train dataset columns into x and y\n",
        "stream_y_train = stream_train_df['stream_quality']\n",
        "stream_x_train = stream_train_df.drop('stream_quality', axis=1)\n",
        "\n",
        "print(\"stream X train shape : \", stream_x_train.shape)\n",
        "print(\"stream Y train shape : \", stream_y_train.shape)\n",
        "\n",
        "# appropriately split the test dataset columns into x and y\n",
        "stream_y_test = stream_test_df['stream_quality']\n",
        "stream_x_test = stream_test_df.drop('stream_quality', axis=1)\n",
        "\n",
        "print(\"stream X test shape : \", stream_x_test.shape)\n",
        "print(\"stream Y test shape : \", stream_y_test.shape)\n"
      ],
      "metadata": {
        "id": "atciX-DDsszy",
        "colab": {
          "base_uri": "https://localhost:8080/"
        },
        "outputId": "5ee5edd9-01ed-4cb7-a3ab-ab5a8fdc14ae"
      },
      "execution_count": 412,
      "outputs": [
        {
          "output_type": "stream",
          "name": "stdout",
          "text": [
            "stream X train shape :  (406572, 11)\n",
            "stream Y train shape :  (406572,)\n",
            "stream X test shape :  (243596, 11)\n",
            "stream Y test shape :  (243596,)\n"
          ]
        }
      ]
    },
    {
      "cell_type": "code",
      "source": [
        "plt.scatter(stream_x_train.iloc[:, 2], stream_y_train)\n",
        "plt.title(\"Stream dataset\")\n",
        "plt.xlabel(\"fps_lags\")\n",
        "plt.ylabel(\"stream quality\")\n",
        "plt.show()\n"
      ],
      "metadata": {
        "id": "URiT-VbRNHH5",
        "colab": {
          "base_uri": "https://localhost:8080/",
          "height": 296
        },
        "outputId": "ad50b67d-03f4-406a-ab86-9c3558a839bf"
      },
      "execution_count": 413,
      "outputs": [
        {
          "output_type": "display_data",
          "data": {
            "text/plain": [
              "<Figure size 432x288 with 1 Axes>"
            ],
            "image/png": "[encoded data removed]"
          },
          "metadata": {
            "needs_background": "light"
          }
        }
      ]
    },
    {
      "cell_type": "markdown",
      "source": [
        "### **Data Preprocessing**  \n",
        "\n",
        "Data preprocessing is a crucial step in data analysis. The simplest way to convert the string representation into the machine-readable format is to substitute the characters with a unique integer identifier. This can be easily achieved by using Label encoder from sklearn. You are free to apply other ways for handling categorical data. You can explore more encoders from library called [Category Encoders](https://contrib.scikit-learn.org/category_encoders/index.html). Some models such as neural networks work best with scaled data, therefore to scale the data as part of the preprocessing stage sklearn provides different methods for scaling the data (i.e Standard scaler, [Min-Max scaler](https://scikit-learn.org/stable/modules/generated/sklearn.preprocessing.MinMaxScaler.html))"
      ],
      "metadata": {
        "id": "70XlORghsZCE"
      }
    },
    {
      "cell_type": "code",
      "source": [
        "# select all the categorical/object features\n",
        "stream_objList = stream_x_train.select_dtypes(include = \"object\").columns\n",
        "\n",
        "# convert the above objList features into numeric type\n",
        "# Label Encoding for object to numeric conversion\n",
        "encoder = LabelEncoder()\n",
        "\n",
        "for feature in stream_objList:\n",
        "    stream_x_train[feature] = encoder.fit_transform(stream_x_train[feature].astype(str))\n",
        "    stream_x_test[feature] = encoder.transform(stream_x_test[feature].astype(str))\n"
      ],
      "metadata": {
        "id": "FHumpG8Y8zSa"
      },
      "execution_count": 414,
      "outputs": []
    },
    {
      "cell_type": "code",
      "source": [
        "# count the number of NaN values in each column to see if there are any\n",
        "print(\"NaN values count :- \", np.isnan(stream_x_train).sum())"
      ],
      "metadata": {
        "id": "Z-NxBUDK_2fr",
        "colab": {
          "base_uri": "https://localhost:8080/"
        },
        "outputId": "5332f41a-cdf0-4da6-f9f7-60ba26c40be0"
      },
      "execution_count": 415,
      "outputs": [
        {
          "output_type": "stream",
          "name": "stdout",
          "text": [
            "NaN values count :-  fps_mean               0\n",
            "fps_std                0\n",
            "fps_lags               0\n",
            "rtt_mean               0\n",
            "rtt_std                0\n",
            "dropped_frames_mean    0\n",
            "dropped_frames_std     0\n",
            "dropped_frames_max     0\n",
            "auto_bitrate_state     0\n",
            "auto_fec_state         0\n",
            "auto_fec_mean          0\n",
            "dtype: int64\n"
          ]
        }
      ]
    },
    {
      "cell_type": "code",
      "source": [
        "# standardize the data features using standard scaler\n",
        "scaler = StandardScaler()\n",
        "scaler.fit(stream_x_train)\n",
        "scaled_data = scaler.transform(stream_x_train)\n",
        "scaled_test_data = scaler.transform(stream_x_test)"
      ],
      "metadata": {
        "id": "L75ZurD2ts7b"
      },
      "execution_count": 416,
      "outputs": []
    },
    {
      "cell_type": "markdown",
      "source": [
        "### **Feature Selection**  \n",
        "\n",
        "It is desirable to reduce the number of input variables to both reduce the computational cost of modeling and, in some cases, to improve the performance of the model. Methods such as Lasso have feature selection embedded to their algorithm. However there exist other methods which result in improved model prediction performance (i.e statistical based). For feature selection in this assignment you will have to use one of the methods introduced in the labs or Lecture."
      ],
      "metadata": {
        "id": "cRT-JDQlttWy"
      }
    },
    {
      "cell_type": "code",
      "source": [
        "# configure to select all features\n",
        "fs = SelectKBest(score_func=f_regression, k='all')\n",
        "fs.fit(scaled_data, stream_y_train)\n",
        "\n",
        "# transform train input data\n",
        "X_train_fs = fs.transform(scaled_data)\n",
        "\n",
        "# what are scores for the features\n",
        "for i in range(len(fs.scores_)):\n",
        "\tprint('Feature %d: %f' % (i, fs.scores_[i]))\n",
        " \n",
        "# plot the scores\n",
        "plt.bar([\"fps_mean\", \"fps_std\", \"fps_lags\", \"rtt_mean\", \"rtt_std\", \"dropped_frames_mean\",\n",
        "         \"dropped_frames_std\", \"dropped_frames_max\", \"auto_bitrate_state\", \n",
        "         \"auto_fec_state\", \"auto_fec_mean\"], fs.scores_)\n",
        "plt.title(\"K Best features\")\n",
        "plt.xlabel(\"features\")\n",
        "plt.ylabel(\"score\")\n",
        "plt.xticks(rotation = 90)\n",
        "plt.tight_layout()\n",
        "plt.show()"
      ],
      "metadata": {
        "colab": {
          "base_uri": "https://localhost:8080/",
          "height": 488
        },
        "id": "AEK7Gy77aJu9",
        "outputId": "f866644c-1dae-49e0-ffb6-36bb469148f2"
      },
      "execution_count": 417,
      "outputs": [
        {
          "output_type": "stream",
          "name": "stdout",
          "text": [
            "Feature 0: 13504.447573\n",
            "Feature 1: 17478.623682\n",
            "Feature 2: 110414.747363\n",
            "Feature 3: 3547.471898\n",
            "Feature 4: 4637.201810\n",
            "Feature 5: 6931.717620\n",
            "Feature 6: 1237.386672\n",
            "Feature 7: 7350.342683\n",
            "Feature 8: 71.895597\n",
            "Feature 9: 1620.046968\n",
            "Feature 10: 399.130039\n"
          ]
        },
        {
          "output_type": "display_data",
          "data": {
            "text/plain": [
              "<Figure size 432x288 with 1 Axes>"
            ],
            "image/png": "[encoded data removed]"
          },
          "metadata": {
            "needs_background": "light"
          }
        }
      ]
    },
    {
      "cell_type": "markdown",
      "source": [
        "### **Data Visualization**  \n",
        "\n",
        "For data visualization on 2D plane dimension reduction methods such as Principal component analysis (PCA) can be used. The simplest way is to select one meaningful feature and plot it against the target variable. We suggest plotting the independent variables against the dependent variables. To better understand the data and create the data profile you can use pandas-profiling, which will generate report one line of code."
      ],
      "metadata": {
        "id": "1PiM1ePwvWhV"
      }
    },
    {
      "cell_type": "code",
      "source": [
        "# # from pandas_profiling import ProfileReport\n",
        "\n",
        "# profile = ProfileReport(stream_train_df, title='Stream Quality', html={'style':{'full_width':True}})"
      ],
      "metadata": {
        "id": "EriMhXBqpfQm"
      },
      "execution_count": 418,
      "outputs": []
    },
    {
      "cell_type": "code",
      "source": [
        "# profile.to_notebook_iframe()"
      ],
      "metadata": {
        "id": "oQfXIgMSqERZ"
      },
      "execution_count": 419,
      "outputs": []
    },
    {
      "cell_type": "code",
      "source": [
        "# profile.to_file(output_file=\"stream_profile.html\")"
      ],
      "metadata": {
        "id": "qv2B7ULkqFAh"
      },
      "execution_count": 420,
      "outputs": []
    },
    {
      "cell_type": "code",
      "source": [
        "# reduce the dimentionality to visualize on a 2D plane\n",
        "pca = PCA(n_components=1)\n",
        "stream_x_train_reduced = pca.fit_transform(X_train_fs)\n",
        "stream_x_test_reduced = pca.transform(stream_x_test)"
      ],
      "metadata": {
        "colab": {
          "base_uri": "https://localhost:8080/"
        },
        "id": "cx4jf0upaiKQ",
        "outputId": "f867bff6-6c27-488a-c3b4-ca37ecf7d77c"
      },
      "execution_count": 421,
      "outputs": [
        {
          "output_type": "stream",
          "name": "stderr",
          "text": [
            "/usr/local/lib/python3.7/dist-packages/sklearn/base.py:444: UserWarning: X has feature names, but PCA was fitted without feature names\n",
            "  f\"X has feature names, but {self.__class__.__name__} was fitted without\"\n"
          ]
        }
      ]
    },
    {
      "cell_type": "code",
      "source": [
        "# plot the basis\n",
        "plt.scatter(stream_x_train_reduced, stream_y_train, marker='.')\n",
        "plt.title(\"PCA with n_components=1\")\n",
        "plt.xlabel(\"reduced stream x train\")\n",
        "plt.ylabel(\"stream y train\")\n",
        "plt.tight_layout()\n",
        "plt.show()"
      ],
      "metadata": {
        "colab": {
          "base_uri": "https://localhost:8080/",
          "height": 297
        },
        "id": "rUZFIxW1gpQt",
        "outputId": "0fa7475e-24da-48d0-f2cc-f9070a5acb9c"
      },
      "execution_count": 422,
      "outputs": [
        {
          "output_type": "display_data",
          "data": {
            "text/plain": [
              "<Figure size 432x288 with 1 Axes>"
            ],
            "image/png": "[encoded data removed]"
          },
          "metadata": {
            "needs_background": "light"
          }
        }
      ]
    },
    {
      "cell_type": "code",
      "source": [
        "print(pca.components_)"
      ],
      "metadata": {
        "colab": {
          "base_uri": "https://localhost:8080/"
        },
        "id": "b3rcb3lcZpYx",
        "outputId": "dfb7c8f2-5f98-4784-9642-d0f1bd75bb54"
      },
      "execution_count": 423,
      "outputs": [
        {
          "output_type": "stream",
          "name": "stdout",
          "text": [
            "[[-0.20796491 -0.0050476   0.37567254  0.0463235   0.06115022  0.55462871\n",
            "   0.30113618  0.57980733  0.02959799 -0.21197929 -0.17154078]]\n"
          ]
        }
      ]
    },
    {
      "cell_type": "code",
      "source": [
        "print(\"Mean : \", pca.mean_)\n",
        "print(\"Explained variance : \", pca.explained_variance_)\n",
        "print(\"Explained variance ratio: \", pca.explained_variance_ratio_)"
      ],
      "metadata": {
        "colab": {
          "base_uri": "https://localhost:8080/"
        },
        "id": "94umxvVoZxoq",
        "outputId": "0de26c69-87a0-4e6d-c018-159fb816a0d6"
      },
      "execution_count": 424,
      "outputs": [
        {
          "output_type": "stream",
          "name": "stdout",
          "text": [
            "Mean :  [ 5.40790670e-16  1.55470327e-16 -5.67634467e-17 -3.07585179e-17\n",
            "  1.42607674e-17 -1.28626530e-17 -7.02552512e-18 -2.37679457e-18\n",
            "  2.68437975e-17 -3.57917299e-17 -7.95876651e-17]\n",
            "Explained variance :  [2.44303553]\n",
            "Explained variance ratio:  [0.22209359]\n"
          ]
        }
      ]
    },
    {
      "cell_type": "markdown",
      "source": [
        "### **Machine Learning Models**  \n",
        "\n",
        "For the classification task (detection of stream quality), you will need to select the appropriate machine learning algorithm. From the Course of machine learning, you have studied several machine learning algorithms (i.e Logistic regression). Logistic regression is the minimum machine learning algorithm to be used for the detection of stream quality. Logistic regression should be used with L1 or L2 regularization."
      ],
      "metadata": {
        "id": "3jQeoulhviE-"
      }
    },
    {
      "cell_type": "markdown",
      "source": [
        "### Naive Bayes"
      ],
      "metadata": {
        "id": "_uP9uh8AAxpr"
      }
    },
    {
      "cell_type": "code",
      "source": [
        "# create a naive bayes classifier and fit it to our processed data\n",
        "gaussian_nb = GaussianNB()\n",
        "gaussian_nb.fit(X_train_fs, stream_y_train)\n",
        "\n",
        "gaussian_score = cross_val_score(gaussian_nb, scaled_test_data, stream_y_test, cv=5)\n",
        "print(gaussian_score)"
      ],
      "metadata": {
        "colab": {
          "base_uri": "https://localhost:8080/"
        },
        "id": "5No7gTmoA26t",
        "outputId": "6dc47f9f-cdd6-498c-8f56-8d07670ebd6a"
      },
      "execution_count": 425,
      "outputs": [
        {
          "output_type": "stream",
          "name": "stdout",
          "text": [
            "[0.93938834 0.91531025 0.93877132 0.93940762 0.93768345]\n"
          ]
        }
      ]
    },
    {
      "cell_type": "markdown",
      "source": [
        "### Logistic Regression (with penalty)"
      ],
      "metadata": {
        "id": "77hfq1Qpg0Mx"
      }
    },
    {
      "cell_type": "code",
      "source": [
        "# create a logistic regression estimator and fit it to our processed data\n",
        "logistic_regression_l1 = LogisticRegression(penalty=\"l1\", solver=\"saga\")\n",
        "logistic_regression_l1.fit(X_train_fs, stream_y_train)\n",
        "\n",
        "logistic_score = cross_val_score(logistic_regression_l1, scaled_test_data, stream_y_test, cv=5)\n",
        "print(logistic_score)"
      ],
      "metadata": {
        "id": "KTU_7O-9v22I",
        "colab": {
          "base_uri": "https://localhost:8080/"
        },
        "outputId": "73cfed5b-9415-42e8-b86f-822504593d92"
      },
      "execution_count": 426,
      "outputs": [
        {
          "output_type": "stream",
          "name": "stderr",
          "text": [
            "/usr/local/lib/python3.7/dist-packages/sklearn/linear_model/_sag.py:354: ConvergenceWarning: The max_iter was reached which means the coef_ did not converge\n",
            "  ConvergenceWarning,\n",
            "/usr/local/lib/python3.7/dist-packages/sklearn/linear_model/_sag.py:354: ConvergenceWarning: The max_iter was reached which means the coef_ did not converge\n",
            "  ConvergenceWarning,\n",
            "/usr/local/lib/python3.7/dist-packages/sklearn/linear_model/_sag.py:354: ConvergenceWarning: The max_iter was reached which means the coef_ did not converge\n",
            "  ConvergenceWarning,\n",
            "/usr/local/lib/python3.7/dist-packages/sklearn/linear_model/_sag.py:354: ConvergenceWarning: The max_iter was reached which means the coef_ did not converge\n",
            "  ConvergenceWarning,\n"
          ]
        },
        {
          "output_type": "stream",
          "name": "stdout",
          "text": [
            "[0.94061987 0.93942815 0.9418502  0.93829923 0.93992077]\n"
          ]
        },
        {
          "output_type": "stream",
          "name": "stderr",
          "text": [
            "/usr/local/lib/python3.7/dist-packages/sklearn/linear_model/_sag.py:354: ConvergenceWarning: The max_iter was reached which means the coef_ did not converge\n",
            "  ConvergenceWarning,\n"
          ]
        }
      ]
    },
    {
      "cell_type": "markdown",
      "source": [
        "### SGD Classifier"
      ],
      "metadata": {
        "id": "XDdZoJ-ckkp-"
      }
    },
    {
      "cell_type": "code",
      "source": [
        "# create a stochastic gradient descent classification estimator and fit it to our processed data\n",
        "sgd_classifier = SGDClassifier(penalty=\"l2\", learning_rate=\"optimal\")\n",
        "sgd_classifier.fit(X_train_fs, stream_y_train)\n",
        "\n",
        "sgd_score = cross_val_score(sgd_classifier, scaled_test_data, stream_y_test, cv=5)\n",
        "print(sgd_score)"
      ],
      "metadata": {
        "colab": {
          "base_uri": "https://localhost:8080/"
        },
        "id": "wvas_KeUkDiX",
        "outputId": "e1cefce8-4772-40da-fa00-67ef8336eee1"
      },
      "execution_count": 427,
      "outputs": [
        {
          "output_type": "stream",
          "name": "stdout",
          "text": [
            "[0.93928571 0.93809397 0.93944868 0.93727293 0.9382787 ]\n"
          ]
        }
      ]
    },
    {
      "cell_type": "markdown",
      "source": [
        "### Cross validation "
      ],
      "metadata": {
        "id": "-x15hcNFvi-d"
      }
    },
    {
      "cell_type": "code",
      "source": [
        "plt.plot([i for i in range(1, 6)], gaussian_score, marker=\".\")\n",
        "plt.plot([i for i in range(1, 6)], logistic_score, marker=\".\")\n",
        "plt.plot([i for i in range(1, 6)], sgd_score, marker=\".\")\n",
        "plt.title(\"CV scores for the classification models\")\n",
        "plt.legend([\"guassianNB\", \"logistic regressor\", \"sgd classifier\"])\n",
        "plt.xlabel(\"cv\")\n",
        "plt.ylabel(\"score\")\n",
        "plt.tight_layout()\n",
        "plt.show()"
      ],
      "metadata": {
        "colab": {
          "base_uri": "https://localhost:8080/",
          "height": 297
        },
        "id": "Oc_wbL3turH9",
        "outputId": "ab7839b5-e589-40cd-ee05-d5fea4cf7bc0"
      },
      "execution_count": 428,
      "outputs": [
        {
          "output_type": "display_data",
          "data": {
            "text/plain": [
              "<Figure size 432x288 with 1 Axes>"
            ],
            "image/png": "[encoded data removed]"
          },
          "metadata": {
            "needs_background": "light"
          }
        }
      ]
    },
    {
      "cell_type": "markdown",
      "source": [
        "### **Performance Measurement**  \n",
        "\n",
        "To measure the performance of the selected models there, exist a number of metrics studied in the course of machine learning (i.e. MSE, precision, recall, RMSE, F1-score, and weighted F1-score). Compare the trained machine learning models in classification task using the appropriate metrics (use minimum of two metrics)."
      ],
      "metadata": {
        "id": "o5D4sHgcwARx"
      }
    },
    {
      "cell_type": "markdown",
      "source": [
        "### Precision"
      ],
      "metadata": {
        "id": "gF2oSwZHC3Fu"
      }
    },
    {
      "cell_type": "code",
      "source": [
        "# create a list for all the precision scores\n",
        "precisions = []\n",
        "\n",
        "# calculate and print the precisions scores for the 3 models\n",
        "stream_y_pred = gaussian_nb.predict(scaled_test_data)\n",
        "precision = precision_score(stream_y_test, stream_y_pred)\n",
        "precisions.append(precision)\n",
        "print(\"Precision score for naive bayes: \", precision)\n",
        "\n",
        "stream_y_pred = logistic_regression_l1.predict(scaled_test_data)\n",
        "precision = precision_score(stream_y_test, stream_y_pred)\n",
        "precisions.append(precision)\n",
        "print(\"Precision score for logistic regression with l1 penalty: \", precision)\n",
        "\n",
        "stream_y_pred = sgd_classifier.predict(scaled_test_data)\n",
        "precision = precision_score(stream_y_test, stream_y_pred)\n",
        "precisions.append(precision)\n",
        "print(\"Precision score for sgd classifier: \", precision)\n",
        "\n",
        "plt.plot([\"naive bayes\", \"logistic\", \"sgd\"], precisions, marker=\".\")\n",
        "plt.title(\"Precision scores for the 3 models\")\n",
        "plt.xlabel(\"model\")\n",
        "plt.ylabel(\"precision\")\n",
        "plt.tight_layout()\n",
        "plt.show()"
      ],
      "metadata": {
        "id": "e608Sx3wwJrG",
        "colab": {
          "base_uri": "https://localhost:8080/",
          "height": 349
        },
        "outputId": "4a10eece-6e99-43ed-8fad-bb00426fc935"
      },
      "execution_count": 429,
      "outputs": [
        {
          "output_type": "stream",
          "name": "stdout",
          "text": [
            "Precision score for naive bayes:  0.6320453739808578\n",
            "Precision score for logistic regression with l1 penalty:  0.7074010327022375\n",
            "Precision score for sgd classifier:  0.8960396039603961\n"
          ]
        },
        {
          "output_type": "display_data",
          "data": {
            "text/plain": [
              "<Figure size 432x288 with 1 Axes>"
            ],
            "image/png": "[encoded data removed]"
          },
          "metadata": {
            "needs_background": "light"
          }
        }
      ]
    },
    {
      "cell_type": "markdown",
      "source": [
        "### Recall"
      ],
      "metadata": {
        "id": "7Ascu3LTqjG2"
      }
    },
    {
      "cell_type": "code",
      "source": [
        "# create a list for all the recalls scores\n",
        "recalls = []\n",
        "\n",
        "# calculate and print the recalls scores for the 3 models\n",
        "stream_y_pred = gaussian_nb.predict(scaled_test_data)\n",
        "recall = recall_score(stream_y_test, stream_y_pred)\n",
        "recalls.append(recall)\n",
        "print(\"Recalls score for naive bayes: \", recall)\n",
        "\n",
        "stream_y_pred = logistic_regression_l1.predict(scaled_test_data)\n",
        "recall = recall_score(stream_y_test, stream_y_pred)\n",
        "recalls.append(recall)\n",
        "print(\"Recalls score for logistic regression with l1 penalty: \", recall)\n",
        "\n",
        "stream_y_pred = sgd_classifier.predict(scaled_test_data)\n",
        "recall = recall_score(stream_y_test, stream_y_pred)\n",
        "recalls.append(recall)\n",
        "print(\"Recalls score for sgd classifier: \", recall)\n",
        "\n",
        "plt.plot([\"naive bayes\", \"logistic\", \"sgd\"], recalls, marker=\".\")\n",
        "plt.title(\"Recall scores for the 3 models\")\n",
        "plt.xlabel(\"model\")\n",
        "plt.ylabel(\"recall\")\n",
        "plt.tight_layout()\n",
        "plt.show()"
      ],
      "metadata": {
        "colab": {
          "base_uri": "https://localhost:8080/",
          "height": 349
        },
        "id": "gLbyvsFcqiCx",
        "outputId": "4ac211ca-3372-4be4-e8dc-4bbe77eef785"
      },
      "execution_count": 430,
      "outputs": [
        {
          "output_type": "stream",
          "name": "stdout",
          "text": [
            "Recalls score for naive bayes:  0.11361029692876258\n",
            "Recalls score for logistic regression with l1 penalty:  0.13094176118261755\n",
            "Recalls score for sgd classifier:  0.057665349815216004\n"
          ]
        },
        {
          "output_type": "display_data",
          "data": {
            "text/plain": [
              "<Figure size 432x288 with 1 Axes>"
            ],
            "image/png": "[encoded data removed]"
          },
          "metadata": {
            "needs_background": "light"
          }
        }
      ]
    },
    {
      "cell_type": "markdown",
      "source": [
        "### Accuracy"
      ],
      "metadata": {
        "id": "IszmYywZC8fH"
      }
    },
    {
      "cell_type": "code",
      "source": [
        "# create a list for all the accuracy scores\n",
        "accuracies = []\n",
        "\n",
        "# calculate and print the accuracy scores for the 3 models\n",
        "stream_y_pred = gaussian_nb.predict(scaled_test_data)\n",
        "accuracy = accuracy_score(stream_y_test, stream_y_pred)\n",
        "accuracies.append(precision)\n",
        "print(\"Accuracy score for naive bayes: \", accuracy)\n",
        "\n",
        "stream_y_pred = logistic_regression_l1.predict(scaled_test_data)\n",
        "accuracy = accuracy_score(stream_y_test, stream_y_pred)\n",
        "accuracies.append(precision)\n",
        "print(\"Accuracy score for logistic regression with l1 penalty: \", accuracy)\n",
        "\n",
        "stream_y_pred = sgd_classifier.predict(scaled_test_data)\n",
        "accuracy = accuracy_score(stream_y_test, stream_y_pred)\n",
        "accuracies.append(precision)\n",
        "print(\"Accuracy score for sgd classifier: \", accuracy)\n",
        "\n",
        "plt.plot([\"naive bayes\", \"logistic\", \"sgd\"], accuracies, marker=\".\")\n",
        "plt.title(\"Accuracy scores for the 3 models\")\n",
        "plt.xlabel(\"model\")\n",
        "plt.ylabel(\"accuracy\")\n",
        "plt.tight_layout()\n",
        "plt.show()"
      ],
      "metadata": {
        "colab": {
          "base_uri": "https://localhost:8080/",
          "height": 349
        },
        "id": "jjp74n5dC-sr",
        "outputId": "98246475-55f5-450c-b94a-09768b1a7606"
      },
      "execution_count": 431,
      "outputs": [
        {
          "output_type": "stream",
          "name": "stdout",
          "text": [
            "Accuracy score for naive bayes:  0.9386319972413341\n",
            "Accuracy score for logistic regression with l1 penalty:  0.9405203697926074\n",
            "Accuracy score for sgd classifier:  0.9388577809159427\n"
          ]
        },
        {
          "output_type": "display_data",
          "data": {
            "text/plain": [
              "<Figure size 432x288 with 1 Axes>"
            ],
            "image/png": "[encoded data removed]"
          },
          "metadata": {
            "needs_background": "light"
          }
        }
      ]
    },
    {
      "cell_type": "markdown",
      "source": [
        "### F1 Score"
      ],
      "metadata": {
        "id": "td5AiN9uDA35"
      }
    },
    {
      "cell_type": "code",
      "source": [
        "# create a list for all the accuracy scores\n",
        "f1s = []\n",
        "\n",
        "# calculate and print the accuracy scores for the 3 models\n",
        "stream_y_pred = gaussian_nb.predict(scaled_test_data)\n",
        "f1 = f1_score(stream_y_test, stream_y_pred)\n",
        "f1s.append(f1)\n",
        "print(\"F1 score for naive bayes: \", f1)\n",
        "\n",
        "stream_y_pred = logistic_regression_l1.predict(scaled_test_data)\n",
        "f1 = f1_score(stream_y_test, stream_y_pred)\n",
        "f1s.append(f1)\n",
        "print(\"F1 score for logistic regression with l1 penalty: \", f1)\n",
        "\n",
        "stream_y_pred = sgd_classifier.predict(scaled_test_data)\n",
        "f1 = f1_score(stream_y_test, stream_y_pred)\n",
        "f1s.append(f1)\n",
        "print(\"F1 score for sgd classifier: \", f1)\n",
        "\n",
        "plt.plot([\"naive bayes\", \"logistic\", \"sgd\"], f1s, marker=\".\")\n",
        "plt.title(\"F1 scores for the 3 models\")\n",
        "plt.xlabel(\"model\")\n",
        "plt.ylabel(\"f1\")\n",
        "plt.tight_layout()\n",
        "plt.show()"
      ],
      "metadata": {
        "colab": {
          "base_uri": "https://localhost:8080/",
          "height": 349
        },
        "id": "SfX_JLpLDDFL",
        "outputId": "4a2f2972-e4f6-41d8-c1f5-a92840042979"
      },
      "execution_count": 432,
      "outputs": [
        {
          "output_type": "stream",
          "name": "stdout",
          "text": [
            "F1 score for naive bayes:  0.19260059411288144\n",
            "F1 score for logistic regression with l1 penalty:  0.22097962256035267\n",
            "F1 score for sgd classifier:  0.10835727969348659\n"
          ]
        },
        {
          "output_type": "display_data",
          "data": {
            "text/plain": [
              "<Figure size 432x288 with 1 Axes>"
            ],
            "image/png": "[encoded data removed]"
          },
          "metadata": {
            "needs_background": "light"
          }
        }
      ]
    },
    {
      "cell_type": "markdown",
      "source": [
        "### **Data Balancing and Outlier Detection**  \n",
        "\n",
        "The classification task dataset is imbalanced and contains outliers. This possess threat to the learning and performance of the ML model. There exist different ways to balance the dataset and remove outliers. The main task is to select one data balancing approach from literature, remove outliers using an approach from literature, balance the data and evaluate the impact of balancing the data on one the model used in the classification task. For a start you can explore [imbalanced-learn](https://github.com/scikit-learn-contrib/imbalanced-learn) and [1, 2, 3, 4]"
      ],
      "metadata": {
        "id": "f0Oerm3mwJ_x"
      }
    },
    {
      "cell_type": "code",
      "source": [
        "# create an sgd outlier detector and fit it to our processed data\n",
        "\n",
        "oneclass_svm = SGDOneClassSVM()\n",
        "outlier_map = oneclass_svm.fit_predict(X_train_fs)\n",
        "outlier_map"
      ],
      "metadata": {
        "id": "zqgMJUFywh6N",
        "colab": {
          "base_uri": "https://localhost:8080/"
        },
        "outputId": "f52cccf8-2349-4c2b-acb8-a2b2f846f40b"
      },
      "execution_count": 433,
      "outputs": [
        {
          "output_type": "execute_result",
          "data": {
            "text/plain": [
              "array([-1, -1,  1, ..., -1, -1, -1], dtype=int32)"
            ]
          },
          "metadata": {},
          "execution_count": 433
        }
      ]
    },
    {
      "cell_type": "code",
      "source": [
        "# fetch the indexes that are equal to 1 (not outliers)\n",
        "indexes = [i for i in outlier_map if outlier_map[i] == 1]\n",
        "\n",
        "# cherry pick just the non outliers using the retrieved indexes\n",
        "balanced_x_train = X_train_fs[outlier_map == 1]\n",
        "balanced_y_train = stream_y_train[outlier_map == 1]"
      ],
      "metadata": {
        "id": "rnFfZMJtcR3t"
      },
      "execution_count": 434,
      "outputs": []
    },
    {
      "cell_type": "code",
      "source": [
        "# create a logistic regression estimator and fit it to\n",
        "# our newly balanced data\n",
        "logistic_regressor_balanced = LogisticRegression(penalty=\"l1\", solver=\"saga\")\n",
        "logistic_regressor_balanced.fit(X_train_fs, stream_y_train)"
      ],
      "metadata": {
        "colab": {
          "base_uri": "https://localhost:8080/"
        },
        "id": "uZlx_pDgIsDN",
        "outputId": "74fb6188-3f52-424d-c70b-09e8f3f0fb5b"
      },
      "execution_count": 435,
      "outputs": [
        {
          "output_type": "execute_result",
          "data": {
            "text/plain": [
              "LogisticRegression(penalty='l1', solver='saga')"
            ]
          },
          "metadata": {},
          "execution_count": 435
        }
      ]
    },
    {
      "cell_type": "code",
      "source": [
        "# calculate the metrics again on the balanced dataset\n",
        "stream_y_pred = logistic_regressor_balanced.predict(scaled_test_data)\n",
        "balanced_precision = precision_score(stream_y_test, stream_y_pred)\n",
        "print(\"Precision score for logistic regression with l1 penalty: \", balanced_precision)\n",
        "\n",
        "balanced_recall = recall_score(stream_y_test, stream_y_pred)\n",
        "print(\"Recall score for logistic regression with l1 penalty: \", balanced_recall)\n",
        "\n",
        "balanced_accuracy = accuracy_score(stream_y_test, stream_y_pred)\n",
        "print(\"Accuracy score for logistic regression with l1 penalty: \", balanced_accuracy)\n",
        "\n",
        "balanced_f1 = f1_score(stream_y_test, stream_y_pred)\n",
        "print(\"F1 score for logistic regression with l1 penalty: \", balanced_f1)"
      ],
      "metadata": {
        "colab": {
          "base_uri": "https://localhost:8080/"
        },
        "id": "aw_6AkChKXbA",
        "outputId": "cea1b321-4f07-4820-c882-6d161e828678"
      },
      "execution_count": 436,
      "outputs": [
        {
          "output_type": "stream",
          "name": "stdout",
          "text": [
            "Precision score for logistic regression with l1 penalty:  0.7074010327022375\n",
            "Recall score for logistic regression with l1 penalty:  0.13094176118261755\n",
            "Accuracy score for logistic regression with l1 penalty:  0.9405203697926074\n",
            "F1 score for logistic regression with l1 penalty:  0.22097962256035267\n"
          ]
        }
      ]
    },
    {
      "cell_type": "code",
      "source": [
        "plt.plot([\"logistic regression\", \"balanced logistic regression\"], [precision, balanced_precision], marker=\".\")\n",
        "plt.plot([\"logistic regression\", \"balanced logistic regression\"], [recall, balanced_recall], marker=\".\")\n",
        "plt.plot([\"logistic regression\", \"balanced logistic regression\"], [accuracy, balanced_accuracy], marker=\".\")\n",
        "plt.plot([\"logistic regression\", \"balanced logistic regression\"], [f1, balanced_f1], marker=\".\")\n",
        "plt.legend([\"precision\", \"recall\", \"accuracy\", \"f1\"])\n",
        "plt.title(\"Balanced vs NonBalanced scores\")\n",
        "plt.xlabel(\"models\")\n",
        "plt.ylabel(\"metrics\")\n",
        "plt.tight_layout()\n",
        "plt.show()"
      ],
      "metadata": {
        "colab": {
          "base_uri": "https://localhost:8080/",
          "height": 297
        },
        "id": "cMa7ZJfGlc0q",
        "outputId": "c5cbecbd-cf67-46fd-a385-6e7478628bc8"
      },
      "execution_count": 437,
      "outputs": [
        {
          "output_type": "display_data",
          "data": {
            "text/plain": [
              "<Figure size 432x288 with 1 Axes>"
            ],
            "image/png": "[encoded data removed]"
          },
          "metadata": {
            "needs_background": "light"
          }
        }
      ]
    }
  ]
}